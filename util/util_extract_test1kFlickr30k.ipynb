{
 "cells": [
  {
   "cell_type": "code",
   "execution_count": null,
   "id": "c4371ac2-18a5-4363-97a3-76d8e1b017a9",
   "metadata": {},
   "outputs": [],
   "source": [
    "import pandas as pd\n",
    "import json\n",
    "from zipfile import ZipFile\n",
    "import requests\n",
    "import csv"
   ]
  },
  {
   "cell_type": "code",
   "execution_count": null,
   "id": "d85c190c-84a3-4617-9503-4a125bc247a3",
   "metadata": {},
   "outputs": [],
   "source": [
    "ZIP_URL='https://cs.stanford.edu/people/karpathy/deepimagesent/flickr30k.zip'\n",
    "r=requests.get(ZIP_URL)"
   ]
  },
  {
   "cell_type": "code",
   "execution_count": null,
   "id": "b6fd2ac3-4522-4caf-9150-c8a1e07f4c5b",
   "metadata": {},
   "outputs": [],
   "source": [
    "open(\"flickr30k.zip\", 'wb').write(r.content)\n",
    "with ZipFile(\"flickr30k.zip\",'r') as myzip:\n",
    "    f = myzip.open('flickr30k/dataset.json')\n",
    "dataset = json.load(f)"
   ]
  },
  {
   "cell_type": "code",
   "execution_count": null,
   "id": "52ed4990-023d-4b1d-a487-c5f4fb85908d",
   "metadata": {},
   "outputs": [],
   "source": [
    "size=len(dataset['images'])\n",
    "l=[]\n",
    "for i in range(size):\n",
    "    imetadata=dataset['images'][i]\n",
    "    if imetadata['split']=='test':\n",
    "        l.append((imetadata['imgid'],[r['raw'] for r in imetadata['sentences']],imetadata['filename']))\n",
    "df=pd.DataFrame(l)"
   ]
  },
  {
   "cell_type": "code",
   "execution_count": null,
   "id": "97d0c071-5ef0-44d3-b2be-0a7f18dc63ac",
   "metadata": {},
   "outputs": [],
   "source": [
    "df.to_csv(\"test1KFlickr30k.csv\",\n",
    "          quoting=csv.QUOTE_NONNUMERIC,\n",
    "          escapechar=\"\\\\\",\n",
    "          doublequote=False,\n",
    "         )"
   ]
  }
 ],
 "metadata": {
  "kernelspec": {
   "display_name": "Python 3 (ipykernel)",
   "language": "python",
   "name": "python3"
  },
  "language_info": {
   "codemirror_mode": {
    "name": "ipython",
    "version": 3
   },
   "file_extension": ".py",
   "mimetype": "text/x-python",
   "name": "python",
   "nbconvert_exporter": "python",
   "pygments_lexer": "ipython3",
   "version": "3.9.7"
  }
 },
 "nbformat": 4,
 "nbformat_minor": 5
}
